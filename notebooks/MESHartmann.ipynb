{
 "cells": [
  {
   "cell_type": "code",
   "execution_count": 3,
   "metadata": {},
   "outputs": [],
   "source": [
    "\n",
    "import pandas as pd\n",
    "import numpy as np\n",
    "import torch\n",
    "\n",
    "from botorch.models.gp_regression_fidelity import SingleTaskMultiFidelityGP\n",
    "from botorch.test_functions.multi_fidelity import AugmentedHartmann\n",
    "from gpytorch.mlls.exact_marginal_log_likelihood import ExactMarginalLogLikelihood\n",
    "from botorch.models.cost import AffineFidelityCostModel\n",
    "from botorch.acquisition.cost_aware import InverseCostWeightedUtility\n",
    "from botorch.acquisition import PosteriorMean\n",
    "from botorch.acquisition.knowledge_gradient import qMultiFidelityKnowledgeGradient\n",
    "from botorch.acquisition.fixed_feature import FixedFeatureAcquisitionFunction\n",
    "from botorch.acquisition.utils import project_to_target_fidelity\n",
    "from botorch.acquisition.max_value_entropy_search import qMultiFidelityMaxValueEntropy\n",
    "\n",
    "\n",
    "problem = AugmentedHartmann(negate=True)\n",
    "\n",
    "def setUpInitialData(initialSize=5):\n",
    "    # fidelities = torch.tensor([0.5, 1.0])\n",
    "    ones = np.full((initialSize,1), 1.0)\n",
    "    halfs = np.full((initialSize,1), 0.5)\n",
    "    # generate training data (16 rows with 6 columns.)\n",
    "    train_x = torch.rand(initialSize, 6)\n",
    "    # train_f = fidelities[torch.randint(2, (16, 1))]\n",
    "    # print(train_f)\n",
    "    train_x_1 = torch.cat((train_x, torch.tensor(ones)), dim=1)\n",
    "    train_x_half = torch.cat((train_x, torch.tensor(halfs)), dim=1)\n",
    "\n",
    "    train_obj = problem(train_x_1).unsqueeze(-1)  # add output dimension\n",
    "    # print(train_obj)\n",
    "    noise = torch.tensor(np.random.normal(0,0.01,initialSize)).reshape(-1,1)\n",
    "    obj_with_noise = torch.add(train_obj, noise)\n",
    "    train_obj = torch.cat((train_obj, obj_with_noise), dim=1).reshape(-1,1)\n",
    "    train_x_full = torch.cat((train_x_1, train_x_half), dim=0)\n",
    "    evaluatedList = torch.cat((train_x_full, train_obj), dim=1)\n",
    "    return train_x_full, train_obj\n",
    "# define a surrogate model suited for a \"training data\"-like fidelity parameter\n",
    "# # in dimension 6, as in [2]\n",
    "# model = SingleTaskMultiFidelityGP(train_x_full, train_obj, data_fidelity=6)\n",
    "# mll = ExactMarginalLogLikelihood(model.likelihood, model)\n"
   ]
  },
  {
   "cell_type": "code",
   "execution_count": 4,
   "metadata": {},
   "outputs": [],
   "source": [
    "\n",
    "def setUpSampleSize(sampleSize=100):\n",
    "    sampleSpaceSize = 500\n",
    "    sampleSpace = torch.rand(sampleSpaceSize, 6)\n",
    "    sampleOnes = np.full((sampleSpaceSize,1), 1.0)\n",
    "    sampleHalfs = np.full((sampleSpaceSize,1), 0.5)\n",
    "    sampleSpace1 = torch.cat((sampleSpace, torch.tensor(sampleOnes)), dim=1)\n",
    "    sampleSpaceHalf = torch.cat((sampleSpace, torch.tensor(sampleHalfs)), dim=1)\n",
    "    return  torch.cat((sampleSpace1, sampleSpaceHalf), dim=0)"
   ]
  },
  {
   "cell_type": "code",
   "execution_count": 5,
   "metadata": {},
   "outputs": [],
   "source": [
    "def runMes(model, Xrpr):\n",
    "    bounds = torch.tensor([[0.0] * Xrpr.shape[1], [1.0] * Xrpr.shape[1]])\n",
    "    candidate_set = bounds[0] + (bounds[1] - bounds[0]) * torch.rand(10000, 1)\n",
    "    target_fidelities = {6: 1.0}\n",
    "            \n",
    "    cost_model = AffineFidelityCostModel(fidelity_weights={6: 1.0}, fixed_cost=1.0)\n",
    "    cost_aware_utility = InverseCostWeightedUtility(cost_model=cost_model)\n",
    "\n",
    "    acquisition = qMultiFidelityMaxValueEntropy(\n",
    "            model=model,\n",
    "            cost_aware_utility=cost_aware_utility,\n",
    "            project=lambda x: project_to_target_fidelity(X=x, target_fidelities=target_fidelities),\n",
    "            candidate_set=candidate_set,\n",
    "        )\n",
    "    acquisitionScores =  acquisition.forward(Xrpr.reshape(-1,1, Xrpr.shape[1]))\n",
    "    return acquisitionScores"
   ]
  },
  {
   "cell_type": "code",
   "execution_count": 6,
   "metadata": {},
   "outputs": [],
   "source": [
    "def evaluate(candidate):\n",
    "    fidelity = candidate[6].item()\n",
    "    if fidelity == 1.0:\n",
    "        return  problem(candidate).reshape(-1,1), fidelity\n",
    "    else:\n",
    "        detached = candidate.detach().numpy()\n",
    "        detached[6]=1.0\n",
    "        output = problem(torch.tensor(detached)).unsqueeze(-1)\n",
    "        noise = torch.tensor(np.random.normal(0,0.01,1)).reshape(-1,1)\n",
    "        output_and_noise = torch.add(output, noise)\n",
    "        return output_and_noise, fidelity\n",
    "\n",
    "def optimiseAcquisitionFunction(sortedAcqusitionScores, sampleSpaceFull, trainingData):\n",
    "    def checkFunction(candidate, set):\n",
    "        for x in set:\n",
    "            if np.array_equal(candidate, set):\n",
    "                return True\n",
    "        return False\n",
    "            \n",
    "    for i in range(sampleSpaceFull.shape[0]):\n",
    "        if ~checkFunction(sampleSpaceFull[sortedAcqusitionScores[i]], trainingData):\n",
    "            return sampleSpaceFull[sortedAcqusitionScores[i]]"
   ]
  },
  {
   "cell_type": "code",
   "execution_count": null,
   "metadata": {},
   "outputs": [],
   "source": [
    "from botorch import fit_gpytorch_mll\n",
    "torch.set_printoptions(precision=12, sci_mode=False)\n",
    "cumulative_cost = 0.0\n",
    "trackers = []\n",
    "N_ITER = 30\n",
    "train_x_full, train_obj = setUpInitialData()\n",
    "sampleSpaceFull = setUpSampleSize()\n",
    "for i in range(N_ITER):\n",
    "    model = SingleTaskMultiFidelityGP(train_x_full, train_obj, data_fidelity=6)\n",
    "    mll = ExactMarginalLogLikelihood(model.likelihood, model)\n",
    "    fit_gpytorch_mll(mll)  \n",
    "    acquisitionScores = runMes(model=model, Xrpr=sampleSpaceFull)\n",
    "    sorted_acqusition_scores = acquisitionScores.argsort(descending=True)\n",
    "    top_candidate = optimiseAcquisitionFunction(sorted_acqusition_scores, sampleSpaceFull, train_x_full)\n",
    "    evaluated_top_candidate, fidelity = evaluate(top_candidate)\n",
    "    cumulative_cost += fidelity\n",
    "    train_x_full = torch.cat([train_x_full, top_candidate.unsqueeze(-2)])\n",
    "    train_obj = torch.cat([train_obj, evaluated_top_candidate])\n",
    "\n",
    "print(train_x_full)\n",
    "print(train_obj)\n",
    "print(cumulative_cost)"
   ]
  },
  {
   "cell_type": "code",
   "execution_count": 23,
   "metadata": {},
   "outputs": [],
   "source": [
    "#Plot the samples.\n",
    "import matplotlib.pyplot as plt\n",
    "\n",
    "def plot(samples, targets, title, colours=['red','blue','green']):\n",
    "    samples = samples.detach().numpy()\n",
    "    targets = targets.detach().numpy()\n",
    "    nb_iterations = len(samples) - 1\n",
    "    fidelities = list(dict.fromkeys(samples[:, 6]))\n",
    "    print(fidelities)\n",
    "    fidelities.sort()\n",
    "    # maximum_target=[]\n",
    "    for fidelity in fidelities:\n",
    "        fidelity_target=[]\n",
    "        fidelity_iteration=[]\n",
    "        for i in range(0, nb_iterations):\n",
    "            if (samples[i,6] == fidelity):\n",
    "                fidelity_target.append(targets[i])\n",
    "                fidelity_iteration.append(i)\n",
    "        # maximum_target.append(max(df_total[df_total['fidelity']==fidelity]['target']))\n",
    "        legend_text = f'Fidelity: {fidelity}'\n",
    "        plt.scatter(fidelity_iteration, fidelity_target, label=legend_text, color=colours[fidelities.index(fidelity)])\n",
    "    # plt.axhline(y=maximum_target[-1], color='black', linestyle='--', label='Global Max for Best Fidelity')\n",
    "    plt.legend(loc=\"lower right\")\n",
    "    plt.xlabel(\"Iteration Number\")\n",
    "    plt.ylabel(\"Target\")\n",
    "    plt.ylim([min(targets)-1, max(targets)+1])\n",
    "    plt.title(title)"
   ]
  },
  {
   "cell_type": "code",
   "execution_count": 24,
   "metadata": {},
   "outputs": [
    {
     "name": "stdout",
     "output_type": "stream",
     "text": [
      "[1.0, 0.5]\n"
     ]
    },
    {
     "data": {
      "image/png": "[encoded data removed]",
      "text/plain": [
       "<Figure size 640x480 with 1 Axes>"
      ]
     },
     "metadata": {},
     "output_type": "display_data"
    }
   ],
   "source": [
    "plot(train_x_full, train_obj, 'MES MFBO: 5 Intitial and 30 Iterations')"
   ]
  },
  {
   "cell_type": "code",
   "execution_count": null,
   "metadata": {},
   "outputs": [],
   "source": []
  }
 ],
 "metadata": {
  "kernelspec": {
   "display_name": "stk_search_2",
   "language": "python",
   "name": "python3"
  },
  "language_info": {
   "codemirror_mode": {
    "name": "ipython",
    "version": 3
   },
   "file_extension": ".py",
   "mimetype": "text/x-python",
   "name": "python",
   "nbconvert_exporter": "python",
   "pygments_lexer": "ipython3",
   "version": "3.10.14"
  }
 },
 "nbformat": 4,
 "nbformat_minor": 2
}
